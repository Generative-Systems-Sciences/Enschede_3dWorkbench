{
 "cells": [
  {
   "cell_type": "markdown",
   "metadata": {},
   "source": [
    "## Download Data\n",
    "\n",
    "You can access the AHN data (Actueel Hoogtebestand Nederland) trough their [website](https://www.ahn.nl/ahn-4) and de [ESRI Explorer](https://hub.arcgis.com/maps/esrinl-content::ahn4-download-kaartbladen-1/explore). To download, simply click on one of the tiles and select the data you want to download. In this case we are going to work with a **DTM 5m** resolution.\n",
    "\n",
    "## Clip the area\n",
    "\n",
    "#### Import the necesary libraries\n",
    "\n"
   ]
  },
  {
   "cell_type": "code",
   "execution_count": 102,
   "metadata": {},
   "outputs": [],
   "source": [
    "import pickle\n",
    "import trimesh as tm\n",
    "import math\n",
    "import numpy as np\n",
    "import open3d as o3d\n",
    "import matplotlib.pyplot as plt\n",
    "import embreex"
   ]
  },
  {
   "cell_type": "code",
   "execution_count": null,
   "metadata": {},
   "outputs": [],
   "source": [
    "## load result from previous notebook using pickle\n",
    "with open('mesh.pkl','rb') as file:\n",
    "    mesh = pickle.load(file)\n",
    "\n",
    "mesh.show()"
   ]
  },
  {
   "cell_type": "code",
   "execution_count": 227,
   "metadata": {},
   "outputs": [],
   "source": [
    "## Use mathematical spherical coordinateshttps://en.wikipedia.org/wiki/Spherical_coordinate_system\n",
    "T=180 # Theta counter - Azimuth Angles\n",
    "K=45 # Phi counter - Elevation Angles\n",
    "r=10 #size of dome\n",
    "hemisphereVertices = []\n",
    "\n",
    "for t in range (T):\n",
    "    for k in range(K):\n",
    "        theta = (float(t/T))*math.pi*2\n",
    "        phi= (float(k/K))*math.pi/2\n",
    "        x = r*math.sin(phi)*math.cos(theta)\n",
    "        y = r*math.sin(phi)*math.sin(theta)\n",
    "        z = r*math.cos(phi)\n",
    "        hSVertex = [x,y,z]\n",
    "        #print(theta,phi,z)\n",
    "\n",
    "        hemisphereVertices.append(hSVertex)\n",
    "        \n",
    "#hemisphereVertices"
   ]
  },
  {
   "cell_type": "code",
   "execution_count": 228,
   "metadata": {},
   "outputs": [],
   "source": [
    "domePC = o3d.geometry.PointCloud()\n",
    "domePC.points = o3d.utility.Vector3dVector(hemisphereVertices)\n",
    "o3d.visualization.draw_geometries([domePC])"
   ]
  },
  {
   "cell_type": "markdown",
   "metadata": {},
   "source": [
    "### Now lets do it with NP Meshgrids"
   ]
  },
  {
   "cell_type": "code",
   "execution_count": 18,
   "metadata": {},
   "outputs": [
    {
     "data": {
      "text/plain": [
       "array([[0.        , 0.03510159, 0.07020319, ..., 6.21298212, 6.24808371,\n",
       "        6.28318531],\n",
       "       [0.        , 0.03510159, 0.07020319, ..., 6.21298212, 6.24808371,\n",
       "        6.28318531],\n",
       "       [0.        , 0.03510159, 0.07020319, ..., 6.21298212, 6.24808371,\n",
       "        6.28318531],\n",
       "       ...,\n",
       "       [0.        , 0.03510159, 0.07020319, ..., 6.21298212, 6.24808371,\n",
       "        6.28318531],\n",
       "       [0.        , 0.03510159, 0.07020319, ..., 6.21298212, 6.24808371,\n",
       "        6.28318531],\n",
       "       [0.        , 0.03510159, 0.07020319, ..., 6.21298212, 6.24808371,\n",
       "        6.28318531]])"
      ]
     },
     "execution_count": 18,
     "metadata": {},
     "output_type": "execute_result"
    }
   ],
   "source": [
    "nt,nk=(180,45)\n",
    "thetaArray = np.linspace(0,2*np.pi,nt) \n",
    "phiArray = np.linspace(0,np.pi/2,nk)\n",
    "\n",
    "thetaGrid, phiGrid = np.meshgrid(thetaArray,phiArray) "
   ]
  },
  {
   "cell_type": "code",
   "execution_count": 20,
   "metadata": {},
   "outputs": [
    {
     "data": {
      "image/png": "[encoded data removed]",
      "text/plain": [
       "<Figure size 640x480 with 1 Axes>"
      ]
     },
     "metadata": {},
     "output_type": "display_data"
    }
   ],
   "source": [
    "plt.plot(thetaGrid, phiGrid, marker='o', color='r', linestyle='none')\n",
    "plt.show()"
   ]
  },
  {
   "cell_type": "code",
   "execution_count": 70,
   "metadata": {},
   "outputs": [
    {
     "data": {
      "text/plain": [
       "(180, 45, 3)"
      ]
     },
     "execution_count": 70,
     "metadata": {},
     "output_type": "execute_result"
    }
   ],
   "source": [
    "def Spherical2Cartesian (r,theta,phi):\n",
    "    x = r*np.sin(phi)*np.cos(theta)\n",
    "    y = r*np.sin(phi)*np.sin(theta)\n",
    "    z = r*np.cos(phi)\n",
    "    return np.array([x,y,z])\n",
    "\n",
    "CartesianPoints = Spherical2Cartesian(r,thetaGrid,phiGrid)\n",
    "CartesianPointsR= CartesianPoints.reshape(3,-1).T # reshape and transpose\n",
    "CartesianPointsT = CartesianPoints.T\n",
    "CartesianPointsT.shape\n"
   ]
  },
  {
   "cell_type": "code",
   "execution_count": 229,
   "metadata": {},
   "outputs": [],
   "source": [
    "#Visualize Points in 3D\n",
    "domeMesh = o3d.geometry.PointCloud()\n",
    "domeMesh.points = o3d.utility.Vector3dVector(CartesianPointsR)\n",
    "o3d.visualization.draw_geometries([domeMesh])"
   ]
  },
  {
   "cell_type": "markdown",
   "metadata": {},
   "source": [
    "### create Rays for all points in dome"
   ]
  },
  {
   "cell_type": "code",
   "execution_count": null,
   "metadata": {},
   "outputs": [],
   "source": [
    "## http://www.open3d.org/docs/latest/tutorial/geometry/ray_casting.html"
   ]
  },
  {
   "cell_type": "code",
   "execution_count": 303,
   "metadata": {},
   "outputs": [
    {
     "data": {
      "text/plain": [
       "<matplotlib.image.AxesImage at 0x22923728af0>"
      ]
     },
     "execution_count": 303,
     "metadata": {},
     "output_type": "execute_result"
    },
    {
     "data": {
      "image/png": "[encoded data removed]",
      "text/plain": [
       "<Figure size 640x480 with 1 Axes>"
      ]
     },
     "metadata": {},
     "output_type": "display_data"
    }
   ],
   "source": [
    "vertex = np.array(mesh.vertices[650]+[0,0,1])\n",
    "rayOrigins = np.broadcast_to(vertex, CartesianPointsT.shape)\n",
    "rayDirections=(CartesianPointsT)\n",
    "raysOD = np.concatenate((rayOrigins,rayDirections), axis=2)\n",
    "\n",
    "o3dMesh = o3d.io.read_triangle_mesh('../Results/mesh.obj')\n",
    "\n",
    "o3dMeshLegacy = o3d.t.geometry.TriangleMesh.from_legacy(o3dMesh)   \n",
    "scene = o3d.t.geometry.RaycastingScene()\n",
    "scene.add_triangles(o3dMeshLegacy)\n",
    "\n",
    "o3dRayGrid=o3d.core.Tensor(raysOD,dtype=o3d.core.Dtype.Float32)\n",
    "\n",
    "ans = scene.cast_rays(o3dRayGrid)\n",
    "\n",
    "# Visualize the hit distance (depth)\n",
    "SVimage= ans['t_hit'].numpy().T\n",
    "plt.imshow(SVimage)"
   ]
  },
  {
   "cell_type": "code",
   "execution_count": 311,
   "metadata": {},
   "outputs": [
    {
     "data": {
      "text/plain": [
       "0.7760384870225651"
      ]
     },
     "execution_count": 311,
     "metadata": {},
     "output_type": "execute_result"
    }
   ],
   "source": [
    "gamma=np.where(SVimage != np.inf)[0][:]\n",
    "SVF=(1-np.sum((np.sin(gamma))/K,axis=0))/(2*np.pi)\n",
    "SVF\n"
   ]
  },
  {
   "cell_type": "code",
   "execution_count": 134,
   "metadata": {},
   "outputs": [
    {
     "data": {
      "text/plain": [
       "((16200, 3), (16200,))"
      ]
     },
     "execution_count": 134,
     "metadata": {},
     "output_type": "execute_result"
    }
   ],
   "source": [
    "# vertex = np.array([0,0,0])\n",
    "\n",
    "rayDirections=(CartesianPointsT-vertex).reshape(-1,3)\n",
    "rayOrigins = np.broadcast_to(vertex, rayDirections.shape)\n",
    "# for t in range(T):\n",
    "#     for k in range(K):\n",
    "#         hsPoint = CartesianPointsT[t,k,:]\n",
    "#         ray = (vertex,hsPoint)\n",
    "hitLocations,indexRay, indexTriangle= mesh.ray.intersects_location(ray_origins=rayOrigins,ray_directions=rayDirections)\n",
    "\n",
    "hitLocations.shape,indexRay.shape\n",
    "# rayDirections.shape\n",
    "\n",
    "\n"
   ]
  },
  {
   "cell_type": "code",
   "execution_count": 138,
   "metadata": {},
   "outputs": [
    {
     "data": {
      "text/plain": [
       "(array([734, 737, 734, ..., 737, 734, 737], dtype=int64),\n",
       " array([   0,    0,    1, ..., 8098, 8099, 8099], dtype=int64))"
      ]
     },
     "execution_count": 138,
     "metadata": {},
     "output_type": "execute_result"
    }
   ],
   "source": [
    "indexTriangle, indexRay = tm.ray.ray_triangle.RayMeshIntersector(mesh).intersects_id(ray_origins=rayOrigins,ray_directions=rayDirections,multiple_hits=True,return_loctaions=False)\n",
    "\n",
    "indexTriangle, indexRay\n",
    "\n"
   ]
  },
  {
   "cell_type": "markdown",
   "metadata": {},
   "source": [
    "### using O3D"
   ]
  },
  {
   "cell_type": "code",
   "execution_count": null,
   "metadata": {},
   "outputs": [],
   "source": [
    "# mesh to obj\n",
    "f=mesh.export(file_obj='../Results/mesh.obj',file_type='obj')\n",
    "f"
   ]
  },
  {
   "cell_type": "code",
   "execution_count": 234,
   "metadata": {},
   "outputs": [
    {
     "ename": "AttributeError",
     "evalue": "'open3d.cpu.pybind.t.geometry.TriangleMesh' object has no attribute 'vertices'",
     "output_type": "error",
     "traceback": [
      "\u001b[1;31m---------------------------------------------------------------------------\u001b[0m",
      "\u001b[1;31mAttributeError\u001b[0m                            Traceback (most recent call last)",
      "\u001b[1;32mc:\\GIS\\PhD\\Github\\Enschede_3dWorkbench\\Notebook\\Sky-view Factor.ipynb Cell 17\u001b[0m line \u001b[0;36m1\n\u001b[0;32m      <a href='vscode-notebook-cell:/c%3A/GIS/PhD/Github/Enschede_3dWorkbench/Notebook/Sky-view%20Factor.ipynb#X32sZmlsZQ%3D%3D?line=5'>6</a>\u001b[0m scene\u001b[39m.\u001b[39madd_triangles(o3dMeshLegacy)\n\u001b[0;32m      <a href='vscode-notebook-cell:/c%3A/GIS/PhD/Github/Enschede_3dWorkbench/Notebook/Sky-view%20Factor.ipynb#X32sZmlsZQ%3D%3D?line=7'>8</a>\u001b[0m \u001b[39m# vertex=np.array(mesh.vertices[456]).reshape(1,3)\u001b[39;00m\n\u001b[1;32m---> <a href='vscode-notebook-cell:/c%3A/GIS/PhD/Github/Enschede_3dWorkbench/Notebook/Sky-view%20Factor.ipynb#X32sZmlsZQ%3D%3D?line=9'>10</a>\u001b[0m vertex \u001b[39m=\u001b[39m np\u001b[39m.\u001b[39masarray(o3dMeshLegacy\u001b[39m.\u001b[39;49mvertices)\n\u001b[0;32m     <a href='vscode-notebook-cell:/c%3A/GIS/PhD/Github/Enschede_3dWorkbench/Notebook/Sky-view%20Factor.ipynb#X32sZmlsZQ%3D%3D?line=12'>13</a>\u001b[0m K\u001b[39m=\u001b[39m\u001b[39m45\u001b[39m\n\u001b[0;32m     <a href='vscode-notebook-cell:/c%3A/GIS/PhD/Github/Enschede_3dWorkbench/Notebook/Sky-view%20Factor.ipynb#X32sZmlsZQ%3D%3D?line=14'>15</a>\u001b[0m \u001b[39m# for t in range (T):\u001b[39;00m\n",
      "\u001b[1;31mAttributeError\u001b[0m: 'open3d.cpu.pybind.t.geometry.TriangleMesh' object has no attribute 'vertices'"
     ]
    }
   ],
   "source": [
    "#read obj\n",
    "o3dMesh = o3d.io.read_triangle_mesh('../Results/mesh.obj')\n",
    "\n",
    "o3dMeshLegacy = o3d.t.geometry.TriangleMesh.from_legacy(o3dMesh)   \n",
    "scene = o3d.t.geometry.RaycastingScene()\n",
    "scene.add_triangles(o3dMeshLegacy)\n",
    "\n",
    "vertex=np.array(mesh.vertices[456]).reshape(1,3)\n",
    "\n",
    "\n",
    "\n",
    "K=45\n",
    "\n",
    "# for t in range (T):\n",
    "t=40\n",
    "hit_phi=np.pi/2\n",
    "i=0\n",
    "t_rays=np.zeros((K,6))\n",
    "for k in range(K):\n",
    "    \n",
    "    theta = (float(t/T))*math.pi*2\n",
    "    phi= (float(k/K))*math.pi/2\n",
    "    x = r*math.sin(phi)*math.cos(theta)\n",
    "    y = r*math.sin(phi)*math.sin(theta)\n",
    "    z = r*math.cos(phi)\n",
    "    hSVertex = np.array([x,y,z]).reshape(1,3)\n",
    "    t_rays[k,:]=np.concatenate((vertex,hSVertex-vertex),axis=1)\n",
    "    \n",
    "    # hit = tm.ray.ray_triangle.RayMeshIntersector(mesh).intersects_any(ray_origins=vertex,ray_directions=hSVertex-vertex) #multiple_hits=False,return_locations=False)\n",
    "    # triangleIndex=tm.ray.ray_triangle.RayMeshIntersector(mesh).intersects_first(ray_origins=vertex,ray_directions=hSVertex-vertex) \n",
    "    # hit = (triangleIndex != -1)\n",
    "    # if hit[0]: #and phi > 0:\n",
    "    #     hit_phi=phi\n",
    "    #     print(hit_phi)\n",
    "    #     i =i+1\n",
    "    #     print (i)\n",
    "    #     # break\n",
    "    \n",
    "o3dRays=o3d.core.Tensor(t_rays,dtype=o3d.core.Dtype.Float32)\n",
    "\n",
    "# Compute the ray intersections.\n",
    "ans = scene.cast_rays(o3dRays)\n",
    "\n",
    "\n"
   ]
  },
  {
   "cell_type": "code",
   "execution_count": 221,
   "metadata": {},
   "outputs": [
    {
     "data": {
      "text/plain": [
       "{'t_hit': [-0.0 -0.0 -0.0 -0.0 -0.0 -0.0 -0.0 -0.0 -0.0 -0.0 -0.0 -0.0 -0.0 -0.0 -0.0 -0.0 -0.0 -0.0 -0.0 -0.0 -0.0 -0.0 -0.0 -0.0 -0.0 -0.0 -0.0 -0.0 -0.0 -0.0 -0.0 -0.0 -0.0 -0.0 -0.0 -0.0 -0.0 -0.0 -0.0 -0.0 -0.0 -0.0 -0.0 -0.0 -0.0]\n",
       " Tensor[shape={45}, stride={1}, Float32, CPU:0, 0x22908278660],\n",
       " 'geometry_ids': [0 0 0 0 0 0 0 0 0 0 0 0 0 0 0 0 0 0 0 0 0 0 0 0 0 0 0 0 0 0 0 0 0 0 0 0 0 0 0 0 0 0 0 0 0]\n",
       " Tensor[shape={45}, stride={1}, UInt32, CPU:0, 0x22908277820],\n",
       " 'primitive_ids': [737 737 737 737 737 737 737 737 737 737 737 737 737 737 737 737 737 737 737 737 737 737 737 737 737 737 737 737 737 737 737 737 737 737 737 737 737 737 737 737 737 737 737 737 737]\n",
       " Tensor[shape={45}, stride={1}, UInt32, CPU:0, 0x22908277fa0],\n",
       " 'primitive_normals': [[-0.110158 0.518571 0.847909],\n",
       "  [-0.110158 0.518571 0.847909],\n",
       "  [-0.110158 0.518571 0.847909],\n",
       "  [-0.110158 0.518571 0.847909],\n",
       "  [-0.110158 0.518571 0.847909],\n",
       "  [-0.110158 0.518571 0.847909],\n",
       "  [-0.110158 0.518571 0.847909],\n",
       "  [-0.110158 0.518571 0.847909],\n",
       "  [-0.110158 0.518571 0.847909],\n",
       "  [-0.110158 0.518571 0.847909],\n",
       "  [-0.110158 0.518571 0.847909],\n",
       "  [-0.110158 0.518571 0.847909],\n",
       "  [-0.110158 0.518571 0.847909],\n",
       "  [-0.110158 0.518571 0.847909],\n",
       "  [-0.110158 0.518571 0.847909],\n",
       "  [-0.110158 0.518571 0.847909],\n",
       "  [-0.110158 0.518571 0.847909],\n",
       "  [-0.110158 0.518571 0.847909],\n",
       "  [-0.110158 0.518571 0.847909],\n",
       "  [-0.110158 0.518571 0.847909],\n",
       "  [-0.110158 0.518571 0.847909],\n",
       "  [-0.110158 0.518571 0.847909],\n",
       "  [-0.110158 0.518571 0.847909],\n",
       "  [-0.110158 0.518571 0.847909],\n",
       "  [-0.110158 0.518571 0.847909],\n",
       "  [-0.110158 0.518571 0.847909],\n",
       "  [-0.110158 0.518571 0.847909],\n",
       "  [-0.110158 0.518571 0.847909],\n",
       "  [-0.110158 0.518571 0.847909],\n",
       "  [-0.110158 0.518571 0.847909],\n",
       "  [-0.110158 0.518571 0.847909],\n",
       "  [-0.110158 0.518571 0.847909],\n",
       "  [-0.110158 0.518571 0.847909],\n",
       "  [-0.110158 0.518571 0.847909],\n",
       "  [-0.110158 0.518571 0.847909],\n",
       "  [-0.110158 0.518571 0.847909],\n",
       "  [-0.110158 0.518571 0.847909],\n",
       "  [-0.110158 0.518571 0.847909],\n",
       "  [-0.110158 0.518571 0.847909],\n",
       "  [-0.110158 0.518571 0.847909],\n",
       "  [-0.110158 0.518571 0.847909],\n",
       "  [-0.110158 0.518571 0.847909],\n",
       "  [-0.110158 0.518571 0.847909],\n",
       "  [-0.110158 0.518571 0.847909],\n",
       "  [-0.110158 0.518571 0.847909]]\n",
       " Tensor[shape={45, 3}, stride={3, 1}, Float32, CPU:0, 0x2291f78efc0],\n",
       " 'primitive_uvs': [[-0.0 1.0],\n",
       "  [-0.0 1.0],\n",
       "  [-0.0 1.0],\n",
       "  [-0.0 1.0],\n",
       "  [-0.0 1.0],\n",
       "  [-0.0 1.0],\n",
       "  [-0.0 1.0],\n",
       "  [-0.0 1.0],\n",
       "  [-0.0 1.0],\n",
       "  [-0.0 1.0],\n",
       "  [-0.0 1.0],\n",
       "  [-0.0 1.0],\n",
       "  [-0.0 1.0],\n",
       "  [-0.0 1.0],\n",
       "  [-0.0 1.0],\n",
       "  [-0.0 1.0],\n",
       "  [-0.0 1.0],\n",
       "  [-0.0 1.0],\n",
       "  [-0.0 1.0],\n",
       "  [-0.0 1.0],\n",
       "  [-0.0 1.0],\n",
       "  [-0.0 1.0],\n",
       "  [-0.0 1.0],\n",
       "  [-0.0 1.0],\n",
       "  [-0.0 1.0],\n",
       "  [-0.0 1.0],\n",
       "  [-0.0 1.0],\n",
       "  [-0.0 1.0],\n",
       "  [-0.0 1.0],\n",
       "  [-0.0 1.0],\n",
       "  [-0.0 1.0],\n",
       "  [-0.0 1.0],\n",
       "  [-0.0 1.0],\n",
       "  [-0.0 1.0],\n",
       "  [-0.0 1.0],\n",
       "  [-0.0 1.0],\n",
       "  [-0.0 1.0],\n",
       "  [-0.0 1.0],\n",
       "  [-0.0 1.0],\n",
       "  [-0.0 1.0],\n",
       "  [-0.0 1.0],\n",
       "  [-0.0 1.0],\n",
       "  [-0.0 1.0],\n",
       "  [-0.0 1.0],\n",
       "  [-0.0 1.0]]\n",
       " Tensor[shape={45, 2}, stride={2, 1}, Float32, CPU:0, 0x22915907140]}"
      ]
     },
     "execution_count": 221,
     "metadata": {},
     "output_type": "execute_result"
    }
   ],
   "source": [
    "o3"
   ]
  },
  {
   "cell_type": "code",
   "execution_count": 222,
   "metadata": {},
   "outputs": [
    {
     "ename": "TypeError",
     "evalue": "Invalid shape (45,) for image data",
     "output_type": "error",
     "traceback": [
      "\u001b[1;31m---------------------------------------------------------------------------\u001b[0m",
      "\u001b[1;31mTypeError\u001b[0m                                 Traceback (most recent call last)",
      "\u001b[1;32mc:\\GIS\\PhD\\Github\\Enschede_3dWorkbench\\Notebook\\Sky-view Factor.ipynb Cell 19\u001b[0m line \u001b[0;36m2\n\u001b[0;32m      <a href='vscode-notebook-cell:/c%3A/GIS/PhD/Github/Enschede_3dWorkbench/Notebook/Sky-view%20Factor.ipynb#X42sZmlsZQ%3D%3D?line=0'>1</a>\u001b[0m \u001b[39m# Visualize the hit distance (depth)\u001b[39;00m\n\u001b[1;32m----> <a href='vscode-notebook-cell:/c%3A/GIS/PhD/Github/Enschede_3dWorkbench/Notebook/Sky-view%20Factor.ipynb#X42sZmlsZQ%3D%3D?line=1'>2</a>\u001b[0m plt\u001b[39m.\u001b[39;49mimshow(ans[\u001b[39m'\u001b[39;49m\u001b[39mt_hit\u001b[39;49m\u001b[39m'\u001b[39;49m]\u001b[39m.\u001b[39;49mnumpy())\n",
      "File \u001b[1;32mc:\\Users\\loque\\.conda\\envs\\workshop\\lib\\site-packages\\matplotlib\\pyplot.py:3346\u001b[0m, in \u001b[0;36mimshow\u001b[1;34m(X, cmap, norm, aspect, interpolation, alpha, vmin, vmax, origin, extent, interpolation_stage, filternorm, filterrad, resample, url, data, **kwargs)\u001b[0m\n\u001b[0;32m   3325\u001b[0m \u001b[39m@_copy_docstring_and_deprecators\u001b[39m(Axes\u001b[39m.\u001b[39mimshow)\n\u001b[0;32m   3326\u001b[0m \u001b[39mdef\u001b[39;00m \u001b[39mimshow\u001b[39m(\n\u001b[0;32m   3327\u001b[0m     X: ArrayLike \u001b[39m|\u001b[39m PIL\u001b[39m.\u001b[39mImage\u001b[39m.\u001b[39mImage,\n\u001b[1;32m   (...)\u001b[0m\n\u001b[0;32m   3344\u001b[0m     \u001b[39m*\u001b[39m\u001b[39m*\u001b[39mkwargs,\n\u001b[0;32m   3345\u001b[0m ) \u001b[39m-\u001b[39m\u001b[39m>\u001b[39m AxesImage:\n\u001b[1;32m-> 3346\u001b[0m     __ret \u001b[39m=\u001b[39m gca()\u001b[39m.\u001b[39mimshow(\n\u001b[0;32m   3347\u001b[0m         X,\n\u001b[0;32m   3348\u001b[0m         cmap\u001b[39m=\u001b[39mcmap,\n\u001b[0;32m   3349\u001b[0m         norm\u001b[39m=\u001b[39mnorm,\n\u001b[0;32m   3350\u001b[0m         aspect\u001b[39m=\u001b[39maspect,\n\u001b[0;32m   3351\u001b[0m         interpolation\u001b[39m=\u001b[39minterpolation,\n\u001b[0;32m   3352\u001b[0m         alpha\u001b[39m=\u001b[39malpha,\n\u001b[0;32m   3353\u001b[0m         vmin\u001b[39m=\u001b[39mvmin,\n\u001b[0;32m   3354\u001b[0m         vmax\u001b[39m=\u001b[39mvmax,\n\u001b[0;32m   3355\u001b[0m         origin\u001b[39m=\u001b[39morigin,\n\u001b[0;32m   3356\u001b[0m         extent\u001b[39m=\u001b[39mextent,\n\u001b[0;32m   3357\u001b[0m         interpolation_stage\u001b[39m=\u001b[39minterpolation_stage,\n\u001b[0;32m   3358\u001b[0m         filternorm\u001b[39m=\u001b[39mfilternorm,\n\u001b[0;32m   3359\u001b[0m         filterrad\u001b[39m=\u001b[39mfilterrad,\n\u001b[0;32m   3360\u001b[0m         resample\u001b[39m=\u001b[39mresample,\n\u001b[0;32m   3361\u001b[0m         url\u001b[39m=\u001b[39murl,\n\u001b[0;32m   3362\u001b[0m         \u001b[39m*\u001b[39m\u001b[39m*\u001b[39m({\u001b[39m\"\u001b[39m\u001b[39mdata\u001b[39m\u001b[39m\"\u001b[39m: data} \u001b[39mif\u001b[39;00m data \u001b[39mis\u001b[39;00m \u001b[39mnot\u001b[39;00m \u001b[39mNone\u001b[39;00m \u001b[39melse\u001b[39;00m {}),\n\u001b[0;32m   3363\u001b[0m         \u001b[39m*\u001b[39m\u001b[39m*\u001b[39mkwargs,\n\u001b[0;32m   3364\u001b[0m     )\n\u001b[0;32m   3365\u001b[0m     sci(__ret)\n\u001b[0;32m   3366\u001b[0m     \u001b[39mreturn\u001b[39;00m __ret\n",
      "File \u001b[1;32mc:\\Users\\loque\\.conda\\envs\\workshop\\lib\\site-packages\\matplotlib\\__init__.py:1465\u001b[0m, in \u001b[0;36m_preprocess_data.<locals>.inner\u001b[1;34m(ax, data, *args, **kwargs)\u001b[0m\n\u001b[0;32m   1462\u001b[0m \u001b[39m@functools\u001b[39m\u001b[39m.\u001b[39mwraps(func)\n\u001b[0;32m   1463\u001b[0m \u001b[39mdef\u001b[39;00m \u001b[39minner\u001b[39m(ax, \u001b[39m*\u001b[39margs, data\u001b[39m=\u001b[39m\u001b[39mNone\u001b[39;00m, \u001b[39m*\u001b[39m\u001b[39m*\u001b[39mkwargs):\n\u001b[0;32m   1464\u001b[0m     \u001b[39mif\u001b[39;00m data \u001b[39mis\u001b[39;00m \u001b[39mNone\u001b[39;00m:\n\u001b[1;32m-> 1465\u001b[0m         \u001b[39mreturn\u001b[39;00m func(ax, \u001b[39m*\u001b[39m\u001b[39mmap\u001b[39m(sanitize_sequence, args), \u001b[39m*\u001b[39m\u001b[39m*\u001b[39mkwargs)\n\u001b[0;32m   1467\u001b[0m     bound \u001b[39m=\u001b[39m new_sig\u001b[39m.\u001b[39mbind(ax, \u001b[39m*\u001b[39margs, \u001b[39m*\u001b[39m\u001b[39m*\u001b[39mkwargs)\n\u001b[0;32m   1468\u001b[0m     auto_label \u001b[39m=\u001b[39m (bound\u001b[39m.\u001b[39marguments\u001b[39m.\u001b[39mget(label_namer)\n\u001b[0;32m   1469\u001b[0m                   \u001b[39mor\u001b[39;00m bound\u001b[39m.\u001b[39mkwargs\u001b[39m.\u001b[39mget(label_namer))\n",
      "File \u001b[1;32mc:\\Users\\loque\\.conda\\envs\\workshop\\lib\\site-packages\\matplotlib\\axes\\_axes.py:5756\u001b[0m, in \u001b[0;36mAxes.imshow\u001b[1;34m(self, X, cmap, norm, aspect, interpolation, alpha, vmin, vmax, origin, extent, interpolation_stage, filternorm, filterrad, resample, url, **kwargs)\u001b[0m\n\u001b[0;32m   5753\u001b[0m \u001b[39mif\u001b[39;00m aspect \u001b[39mis\u001b[39;00m \u001b[39mnot\u001b[39;00m \u001b[39mNone\u001b[39;00m:\n\u001b[0;32m   5754\u001b[0m     \u001b[39mself\u001b[39m\u001b[39m.\u001b[39mset_aspect(aspect)\n\u001b[1;32m-> 5756\u001b[0m im\u001b[39m.\u001b[39;49mset_data(X)\n\u001b[0;32m   5757\u001b[0m im\u001b[39m.\u001b[39mset_alpha(alpha)\n\u001b[0;32m   5758\u001b[0m \u001b[39mif\u001b[39;00m im\u001b[39m.\u001b[39mget_clip_path() \u001b[39mis\u001b[39;00m \u001b[39mNone\u001b[39;00m:\n\u001b[0;32m   5759\u001b[0m     \u001b[39m# image does not already have clipping set, clip to axes patch\u001b[39;00m\n",
      "File \u001b[1;32mc:\\Users\\loque\\.conda\\envs\\workshop\\lib\\site-packages\\matplotlib\\image.py:723\u001b[0m, in \u001b[0;36m_ImageBase.set_data\u001b[1;34m(self, A)\u001b[0m\n\u001b[0;32m    721\u001b[0m \u001b[39mif\u001b[39;00m \u001b[39misinstance\u001b[39m(A, PIL\u001b[39m.\u001b[39mImage\u001b[39m.\u001b[39mImage):\n\u001b[0;32m    722\u001b[0m     A \u001b[39m=\u001b[39m pil_to_array(A)  \u001b[39m# Needed e.g. to apply png palette.\u001b[39;00m\n\u001b[1;32m--> 723\u001b[0m \u001b[39mself\u001b[39m\u001b[39m.\u001b[39m_A \u001b[39m=\u001b[39m \u001b[39mself\u001b[39;49m\u001b[39m.\u001b[39;49m_normalize_image_array(A)\n\u001b[0;32m    724\u001b[0m \u001b[39mself\u001b[39m\u001b[39m.\u001b[39m_imcache \u001b[39m=\u001b[39m \u001b[39mNone\u001b[39;00m\n\u001b[0;32m    725\u001b[0m \u001b[39mself\u001b[39m\u001b[39m.\u001b[39mstale \u001b[39m=\u001b[39m \u001b[39mTrue\u001b[39;00m\n",
      "File \u001b[1;32mc:\\Users\\loque\\.conda\\envs\\workshop\\lib\\site-packages\\matplotlib\\image.py:693\u001b[0m, in \u001b[0;36m_ImageBase._normalize_image_array\u001b[1;34m(A)\u001b[0m\n\u001b[0;32m    691\u001b[0m     A \u001b[39m=\u001b[39m A\u001b[39m.\u001b[39msqueeze(\u001b[39m-\u001b[39m\u001b[39m1\u001b[39m)  \u001b[39m# If just (M, N, 1), assume scalar and apply colormap.\u001b[39;00m\n\u001b[0;32m    692\u001b[0m \u001b[39mif\u001b[39;00m \u001b[39mnot\u001b[39;00m (A\u001b[39m.\u001b[39mndim \u001b[39m==\u001b[39m \u001b[39m2\u001b[39m \u001b[39mor\u001b[39;00m A\u001b[39m.\u001b[39mndim \u001b[39m==\u001b[39m \u001b[39m3\u001b[39m \u001b[39mand\u001b[39;00m A\u001b[39m.\u001b[39mshape[\u001b[39m-\u001b[39m\u001b[39m1\u001b[39m] \u001b[39min\u001b[39;00m [\u001b[39m3\u001b[39m, \u001b[39m4\u001b[39m]):\n\u001b[1;32m--> 693\u001b[0m     \u001b[39mraise\u001b[39;00m \u001b[39mTypeError\u001b[39;00m(\u001b[39mf\u001b[39m\u001b[39m\"\u001b[39m\u001b[39mInvalid shape \u001b[39m\u001b[39m{\u001b[39;00mA\u001b[39m.\u001b[39mshape\u001b[39m}\u001b[39;00m\u001b[39m for image data\u001b[39m\u001b[39m\"\u001b[39m)\n\u001b[0;32m    694\u001b[0m \u001b[39mif\u001b[39;00m A\u001b[39m.\u001b[39mndim \u001b[39m==\u001b[39m \u001b[39m3\u001b[39m:\n\u001b[0;32m    695\u001b[0m     \u001b[39m# If the input data has values outside the valid range (after\u001b[39;00m\n\u001b[0;32m    696\u001b[0m     \u001b[39m# normalisation), we issue a warning and then clip X to the bounds\u001b[39;00m\n\u001b[0;32m    697\u001b[0m     \u001b[39m# - otherwise casting wraps extreme values, hiding outliers and\u001b[39;00m\n\u001b[0;32m    698\u001b[0m     \u001b[39m# making reliable interpretation impossible.\u001b[39;00m\n\u001b[0;32m    699\u001b[0m     high \u001b[39m=\u001b[39m \u001b[39m255\u001b[39m \u001b[39mif\u001b[39;00m np\u001b[39m.\u001b[39missubdtype(A\u001b[39m.\u001b[39mdtype, np\u001b[39m.\u001b[39minteger) \u001b[39melse\u001b[39;00m \u001b[39m1\u001b[39m\n",
      "\u001b[1;31mTypeError\u001b[0m: Invalid shape (45,) for image data"
     ]
    },
    {
     "data": {
      "image/png": "[encoded data removed]",
      "text/plain": [
       "<Figure size 640x480 with 1 Axes>"
      ]
     },
     "metadata": {},
     "output_type": "display_data"
    }
   ],
   "source": [
    "# Visualize the hit distance (depth)\n",
    "plt.imshow(ans['t_hit'].numpy())"
   ]
  },
  {
   "cell_type": "code",
   "execution_count": null,
   "metadata": {},
   "outputs": [
    {
     "ename": "TypeError",
     "evalue": "Invalid shape (45,) for image data",
     "output_type": "error",
     "traceback": [
      "\u001b[1;31m---------------------------------------------------------------------------\u001b[0m\n",
      "\u001b[1;31mTypeError\u001b[0m                                 Traceback (most recent call last)\n",
      "\u001b[1;32mc:\\GIS\\PhD\\Github\\Enschede_3dWorkbench\\Notebook\\Sky-view Factor.ipynb Cell 19\u001b[0m line \u001b[0;36m2\n",
      "\u001b[0;32m      <a href='vscode-notebook-cell:/c%3A/GIS/PhD/Github/Enschede_3dWorkbench/Notebook/Sky-view%20Factor.ipynb#X42sZmlsZQ%3D%3D?line=0'>1</a>\u001b[0m \u001b[39m# Visualize the hit distance (depth)\u001b[39;00m\n",
      "\u001b[1;32m----> <a href='vscode-notebook-cell:/c%3A/GIS/PhD/Github/Enschede_3dWorkbench/Notebook/Sky-view%20Factor.ipynb#X42sZmlsZQ%3D%3D?line=1'>2</a>\u001b[0m plt\u001b[39m.\u001b[39;49mimshow(ans[\u001b[39m'\u001b[39;49m\u001b[39mt_hit\u001b[39;49m\u001b[39m'\u001b[39;49m]\u001b[39m.\u001b[39;49mnumpy())\n",
      "\n",
      "File \u001b[1;32mc:\\Users\\loque\\.conda\\envs\\workshop\\lib\\site-packages\\matplotlib\\pyplot.py:3346\u001b[0m, in \u001b[0;36mimshow\u001b[1;34m(X, cmap, norm, aspect, interpolation, alpha, vmin, vmax, origin, extent, interpolation_stage, filternorm, filterrad, resample, url, data, **kwargs)\u001b[0m\n",
      "\u001b[0;32m   3325\u001b[0m \u001b[39m@_copy_docstring_and_deprecators\u001b[39m(Axes\u001b[39m.\u001b[39mimshow)\n",
      "\u001b[0;32m   3326\u001b[0m \u001b[39mdef\u001b[39;00m \u001b[39mimshow\u001b[39m(\n",
      "\u001b[0;32m   3327\u001b[0m     X: ArrayLike \u001b[39m|\u001b[39m PIL\u001b[39m.\u001b[39mImage\u001b[39m.\u001b[39mImage,\n",
      "\u001b[1;32m   (...)\u001b[0m\n",
      "\u001b[0;32m   3344\u001b[0m     \u001b[39m*\u001b[39m\u001b[39m*\u001b[39mkwargs,\n",
      "\u001b[0;32m   3345\u001b[0m ) \u001b[39m-\u001b[39m\u001b[39m>\u001b[39m AxesImage:\n",
      "\u001b[1;32m-> 3346\u001b[0m     __ret \u001b[39m=\u001b[39m gca()\u001b[39m.\u001b[39mimshow(\n",
      "\u001b[0;32m   3347\u001b[0m         X,\n",
      "\u001b[0;32m   3348\u001b[0m         cmap\u001b[39m=\u001b[39mcmap,\n",
      "\u001b[0;32m   3349\u001b[0m         norm\u001b[39m=\u001b[39mnorm,\n",
      "\u001b[0;32m   3350\u001b[0m         aspect\u001b[39m=\u001b[39maspect,\n",
      "\u001b[0;32m   3351\u001b[0m         interpolation\u001b[39m=\u001b[39minterpolation,\n",
      "\u001b[0;32m   3352\u001b[0m         alpha\u001b[39m=\u001b[39malpha,\n",
      "\u001b[0;32m   3353\u001b[0m         vmin\u001b[39m=\u001b[39mvmin,\n",
      "\u001b[0;32m   3354\u001b[0m         vmax\u001b[39m=\u001b[39mvmax,\n",
      "\u001b[0;32m   3355\u001b[0m         origin\u001b[39m=\u001b[39morigin,\n",
      "\u001b[0;32m   3356\u001b[0m         extent\u001b[39m=\u001b[39mextent,\n",
      "\u001b[0;32m   3357\u001b[0m         interpolation_stage\u001b[39m=\u001b[39minterpolation_stage,\n",
      "\u001b[0;32m   3358\u001b[0m         filternorm\u001b[39m=\u001b[39mfilternorm,\n",
      "\u001b[0;32m   3359\u001b[0m         filterrad\u001b[39m=\u001b[39mfilterrad,\n",
      "\u001b[0;32m   3360\u001b[0m         resample\u001b[39m=\u001b[39mresample,\n",
      "\u001b[0;32m   3361\u001b[0m         url\u001b[39m=\u001b[39murl,\n",
      "\u001b[0;32m   3362\u001b[0m         \u001b[39m*\u001b[39m\u001b[39m*\u001b[39m({\u001b[39m\"\u001b[39m\u001b[39mdata\u001b[39m\u001b[39m\"\u001b[39m: data} \u001b[39mif\u001b[39;00m data \u001b[39mis\u001b[39;00m \u001b[39mnot\u001b[39;00m \u001b[39mNone\u001b[39;00m \u001b[39melse\u001b[39;00m {}),\n",
      "\u001b[0;32m   3363\u001b[0m         \u001b[39m*\u001b[39m\u001b[39m*\u001b[39mkwargs,\n",
      "\u001b[0;32m   3364\u001b[0m     )\n",
      "\u001b[0;32m   3365\u001b[0m     sci(__ret)\n",
      "\u001b[0;32m   3366\u001b[0m     \u001b[39mreturn\u001b[39;00m __ret\n",
      "\n",
      "File \u001b[1;32mc:\\Users\\loque\\.conda\\envs\\workshop\\lib\\site-packages\\matplotlib\\__init__.py:1465\u001b[0m, in \u001b[0;36m_preprocess_data.<locals>.inner\u001b[1;34m(ax, data, *args, **kwargs)\u001b[0m\n",
      "\u001b[0;32m   1462\u001b[0m \u001b[39m@functools\u001b[39m\u001b[39m.\u001b[39mwraps(func)\n",
      "\u001b[0;32m   1463\u001b[0m \u001b[39mdef\u001b[39;00m \u001b[39minner\u001b[39m(ax, \u001b[39m*\u001b[39margs, data\u001b[39m=\u001b[39m\u001b[39mNone\u001b[39;00m, \u001b[39m*\u001b[39m\u001b[39m*\u001b[39mkwargs):\n",
      "\u001b[0;32m   1464\u001b[0m     \u001b[39mif\u001b[39;00m data \u001b[39mis\u001b[39;00m \u001b[39mNone\u001b[39;00m:\n",
      "\u001b[1;32m-> 1465\u001b[0m         \u001b[39mreturn\u001b[39;00m func(ax, \u001b[39m*\u001b[39m\u001b[39mmap\u001b[39m(sanitize_sequence, args), \u001b[39m*\u001b[39m\u001b[39m*\u001b[39mkwargs)\n",
      "\u001b[0;32m   1467\u001b[0m     bound \u001b[39m=\u001b[39m new_sig\u001b[39m.\u001b[39mbind(ax, \u001b[39m*\u001b[39margs, \u001b[39m*\u001b[39m\u001b[39m*\u001b[39mkwargs)\n",
      "\u001b[0;32m   1468\u001b[0m     auto_label \u001b[39m=\u001b[39m (bound\u001b[39m.\u001b[39marguments\u001b[39m.\u001b[39mget(label_namer)\n",
      "\u001b[0;32m   1469\u001b[0m                   \u001b[39mor\u001b[39;00m bound\u001b[39m.\u001b[39mkwargs\u001b[39m.\u001b[39mget(label_namer))\n",
      "\n",
      "File \u001b[1;32mc:\\Users\\loque\\.conda\\envs\\workshop\\lib\\site-packages\\matplotlib\\axes\\_axes.py:5756\u001b[0m, in \u001b[0;36mAxes.imshow\u001b[1;34m(self, X, cmap, norm, aspect, interpolation, alpha, vmin, vmax, origin, extent, interpolation_stage, filternorm, filterrad, resample, url, **kwargs)\u001b[0m\n",
      "\u001b[0;32m   5753\u001b[0m \u001b[39mif\u001b[39;00m aspect \u001b[39mis\u001b[39;00m \u001b[39mnot\u001b[39;00m \u001b[39mNone\u001b[39;00m:\n",
      "\u001b[0;32m   5754\u001b[0m     \u001b[39mself\u001b[39m\u001b[39m.\u001b[39mset_aspect(aspect)\n",
      "\u001b[1;32m-> 5756\u001b[0m im\u001b[39m.\u001b[39;49mset_data(X)\n",
      "\u001b[0;32m   5757\u001b[0m im\u001b[39m.\u001b[39mset_alpha(alpha)\n",
      "\u001b[0;32m   5758\u001b[0m \u001b[39mif\u001b[39;00m im\u001b[39m.\u001b[39mget_clip_path() \u001b[39mis\u001b[39;00m \u001b[39mNone\u001b[39;00m:\n",
      "\u001b[0;32m   5759\u001b[0m     \u001b[39m# image does not already have clipping set, clip to axes patch\u001b[39;00m\n",
      "\n",
      "File \u001b[1;32mc:\\Users\\loque\\.conda\\envs\\workshop\\lib\\site-packages\\matplotlib\\image.py:723\u001b[0m, in \u001b[0;36m_ImageBase.set_data\u001b[1;34m(self, A)\u001b[0m\n",
      "\u001b[0;32m    721\u001b[0m \u001b[39mif\u001b[39;00m \u001b[39misinstance\u001b[39m(A, PIL\u001b[39m.\u001b[39mImage\u001b[39m.\u001b[39mImage):\n",
      "\u001b[0;32m    722\u001b[0m     A \u001b[39m=\u001b[39m pil_to_array(A)  \u001b[39m# Needed e.g. to apply png palette.\u001b[39;00m\n",
      "\u001b[1;32m--> 723\u001b[0m \u001b[39mself\u001b[39m\u001b[39m.\u001b[39m_A \u001b[39m=\u001b[39m \u001b[39mself\u001b[39;49m\u001b[39m.\u001b[39;49m_normalize_image_array(A)\n",
      "\u001b[0;32m    724\u001b[0m \u001b[39mself\u001b[39m\u001b[39m.\u001b[39m_imcache \u001b[39m=\u001b[39m \u001b[39mNone\u001b[39;00m\n",
      "\u001b[0;32m    725\u001b[0m \u001b[39mself\u001b[39m\u001b[39m.\u001b[39mstale \u001b[39m=\u001b[39m \u001b[39mTrue\u001b[39;00m\n",
      "\n",
      "File \u001b[1;32mc:\\Users\\loque\\.conda\\envs\\workshop\\lib\\site-packages\\matplotlib\\image.py:693\u001b[0m, in \u001b[0;36m_ImageBase._normalize_image_array\u001b[1;34m(A)\u001b[0m\n",
      "\u001b[0;32m    691\u001b[0m     A \u001b[39m=\u001b[39m A\u001b[39m.\u001b[39msqueeze(\u001b[39m-\u001b[39m\u001b[39m1\u001b[39m)  \u001b[39m# If just (M, N, 1), assume scalar and apply colormap.\u001b[39;00m\n",
      "\u001b[0;32m    692\u001b[0m \u001b[39mif\u001b[39;00m \u001b[39mnot\u001b[39;00m (A\u001b[39m.\u001b[39mndim \u001b[39m==\u001b[39m \u001b[39m2\u001b[39m \u001b[39mor\u001b[39;00m A\u001b[39m.\u001b[39mndim \u001b[39m==\u001b[39m \u001b[39m3\u001b[39m \u001b[39mand\u001b[39;00m A\u001b[39m.\u001b[39mshape[\u001b[39m-\u001b[39m\u001b[39m1\u001b[39m] \u001b[39min\u001b[39;00m [\u001b[39m3\u001b[39m, \u001b[39m4\u001b[39m]):\n",
      "\u001b[1;32m--> 693\u001b[0m     \u001b[39mraise\u001b[39;00m \u001b[39mTypeError\u001b[39;00m(\u001b[39mf\u001b[39m\u001b[39m\"\u001b[39m\u001b[39mInvalid shape \u001b[39m\u001b[39m{\u001b[39;00mA\u001b[39m.\u001b[39mshape\u001b[39m}\u001b[39;00m\u001b[39m for image data\u001b[39m\u001b[39m\"\u001b[39m)\n",
      "\u001b[0;32m    694\u001b[0m \u001b[39mif\u001b[39;00m A\u001b[39m.\u001b[39mndim \u001b[39m==\u001b[39m \u001b[39m3\u001b[39m:\n",
      "\u001b[0;32m    695\u001b[0m     \u001b[39m# If the input data has values outside the valid range (after\u001b[39;00m\n",
      "\u001b[0;32m    696\u001b[0m     \u001b[39m# normalisation), we issue a warning and then clip X to the bounds\u001b[39;00m\n",
      "\u001b[0;32m    697\u001b[0m     \u001b[39m# - otherwise casting wraps extreme values, hiding outliers and\u001b[39;00m\n",
      "\u001b[0;32m    698\u001b[0m     \u001b[39m# making reliable interpretation impossible.\u001b[39;00m\n",
      "\u001b[0;32m    699\u001b[0m     high \u001b[39m=\u001b[39m \u001b[39m255\u001b[39m \u001b[39mif\u001b[39;00m np\u001b[39m.\u001b[39missubdtype(A\u001b[39m.\u001b[39mdtype, np\u001b[39m.\u001b[39minteger) \u001b[39melse\u001b[39;00m \u001b[39m1\u001b[39m\n",
      "\n",
      "\u001b[1;31mTypeError\u001b[0m: Invalid shape (45,) for image data"
     ]
    },
    {
     "data": {
      "image/png": "[encoded data removed]",
      "text/plain": [
       "<Figure size 640x480 with 1 Axes>"
      ]
     },
     "metadata": {},
     "output_type": "display_data"
    }
   ],
   "source": [
    "# Visualize the hit distance (depth)\n",
    "plt.imshow(ans['t_hit'].numpy())"
   ]
  },
  {
   "cell_type": "code",
   "execution_count": null,
   "metadata": {},
   "outputs": [],
   "source": [
    "# tempMesh = mesh.copy()\n",
    "f=mesh.export(file_obj='../Results/mesh.obj',file_type='obj')\n",
    "f"
   ]
  },
  {
   "cell_type": "code",
   "execution_count": 183,
   "metadata": {},
   "outputs": [],
   "source": [
    "o3dMesh = o3d.io.read_triangle_mesh('../Results/mesh.obj')\n",
    "\n",
    "o3dMeshLegacy = o3d.t.geometry.TriangleMesh.from_legacy(o3dMesh)"
   ]
  },
  {
   "cell_type": "code",
   "execution_count": 184,
   "metadata": {},
   "outputs": [
    {
     "data": {
      "text/plain": [
       "0"
      ]
     },
     "execution_count": 184,
     "metadata": {},
     "output_type": "execute_result"
    }
   ],
   "source": [
    "scene = o3d.t.geometry.RaycastingScene()\n",
    "scene.add_triangles(o3dMeshLegacy)"
   ]
  },
  {
   "cell_type": "code",
   "execution_count": 185,
   "metadata": {},
   "outputs": [],
   "source": [
    "# Rays are 6D vectors with origin and ray direction.\n",
    "# rays = o3d.core.Tensor([[0.5, 0.5, 10, 0, 0, -1], [-1, -1, -1, 0, 0, -1]],                       dtype=o3d.core.Dtype.Float32)\n"
   ]
  },
  {
   "cell_type": "code",
   "execution_count": 187,
   "metadata": {},
   "outputs": [
    {
     "ename": "AttributeError",
     "evalue": "'open3d.cpu.pybind.core.Tensor' object has no attribute 'type'",
     "output_type": "error",
     "traceback": [
      "\u001b[1;31m---------------------------------------------------------------------------\u001b[0m",
      "\u001b[1;31mAttributeError\u001b[0m                            Traceback (most recent call last)",
      "\u001b[1;32mc:\\GIS\\PhD\\Github\\Enschede_3dWorkbench\\Notebook\\Sky-view Factor.ipynb Cell 21\u001b[0m line \u001b[0;36m1\n\u001b[1;32m----> <a href='vscode-notebook-cell:/c%3A/GIS/PhD/Github/Enschede_3dWorkbench/Notebook/Sky-view%20Factor.ipynb#X35sZmlsZQ%3D%3D?line=0'>1</a>\u001b[0m rays\u001b[39m.\u001b[39;49mtype()\n",
      "\u001b[1;31mAttributeError\u001b[0m: 'open3d.cpu.pybind.core.Tensor' object has no attribute 'type'"
     ]
    }
   ],
   "source": [
    "rays.type()"
   ]
  }
 ],
 "metadata": {
  "kernelspec": {
   "display_name": "workshop",
   "language": "python",
   "name": "python3"
  },
  "language_info": {
   "codemirror_mode": {
    "name": "ipython",
    "version": 3
   },
   "file_extension": ".py",
   "mimetype": "text/x-python",
   "name": "python",
   "nbconvert_exporter": "python",
   "pygments_lexer": "ipython3",
   "version": "3.10.13"
  }
 },
 "nbformat": 4,
 "nbformat_minor": 2
}
