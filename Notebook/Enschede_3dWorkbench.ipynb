{
 "cells": [
  {
   "cell_type": "markdown",
   "metadata": {},
   "source": [
    "### Install pyfor\n",
    "\n",
    "1. Create a conda environment for this project. You should have installed conda or miniconda already for this to run.\n",
    "```\n",
    "conda env create -f ./3dworkbench.yml\n",
    "```\n",
    "2. Install pyfor library and dependancies. This will take a while due to dependancies heavy files.\n",
    "\n",
    "3. If necessary, convert the LAZ file to LAS (You can do this using the LASTools Plugin on QGIS)\n",
    "\n",
    "4. Follow [this](https://geonetcast.wordpress.com/2022/05/12/creating-a-geotiff-from-a-numpy-array/) for exporting np array to GeoTiff."
   ]
  },
  {
   "cell_type": "markdown",
   "metadata": {},
   "source": [
    "## Import Libraries"
   ]
  },
  {
   "cell_type": "code",
   "execution_count": null,
   "metadata": {},
   "outputs": [],
   "source": [
    "import laspy\n",
    "import open3d as o3d\n",
    "import numpy as np\n",
    "import trimesh as tm\n",
    "import shapely\n",
    "import geopandas\n",
    "import rasterio\n",
    "from osgeo import gdal, osr, ogr # Python bindings for GDAL\n",
    "import matplotlib.pyplot as plt\n",
    "import pickle"
   ]
  },
  {
   "cell_type": "markdown",
   "metadata": {},
   "source": [
    "### Import Files"
   ]
  },
  {
   "cell_type": "code",
   "execution_count": null,
   "metadata": {},
   "outputs": [],
   "source": [
    "las = laspy.read('../Data/OldCityEnschede.las')"
   ]
  },
  {
   "cell_type": "markdown",
   "metadata": {},
   "source": [
    "### Transform data into a Open3D point cloud and visualize"
   ]
  },
  {
   "cell_type": "code",
   "execution_count": null,
   "metadata": {},
   "outputs": [],
   "source": [
    "point_data = np.stack([las.X, las.Y, las.Z], axis=0).transpose((1,0))"
   ]
  },
  {
   "cell_type": "code",
   "execution_count": null,
   "metadata": {},
   "outputs": [],
   "source": [
    "geom = o3d.geometry.PointCloud()\n",
    "geom.points = o3d.utility.Vector3dVector(point_data)"
   ]
  },
  {
   "cell_type": "code",
   "execution_count": null,
   "metadata": {},
   "outputs": [],
   "source": [
    "o3d.visualization.draw_geometries([geom])"
   ]
  },
  {
   "cell_type": "markdown",
   "metadata": {},
   "source": [
    "#### convert open3D object into a np array and transform into meters and create a new point cloud\n"
   ]
  },
  {
   "cell_type": "code",
   "execution_count": null,
   "metadata": {},
   "outputs": [],
   "source": [
    "## convert open3D object into a np array and transform into meters and create a new point cloud\n",
    "xyz_load = (np.asarray(geom.points))/1000\n",
    "newGeom= o3d.geometry.PointCloud()\n",
    "newGeom.points = o3d.utility.Vector3dVector(xyz_load)"
   ]
  },
  {
   "cell_type": "code",
   "execution_count": null,
   "metadata": {},
   "outputs": [],
   "source": [
    "#get boundaries and size of the diagonal\n",
    "\n",
    "minb= np.min(xyz_load, axis=0)\n",
    "maxb= np.max(xyz_load, axis=0)\n",
    "\n",
    "diagonal = (maxb - minb)\n",
    "diagonal"
   ]
  },
  {
   "cell_type": "code",
   "execution_count": null,
   "metadata": {},
   "outputs": [],
   "source": [
    "# create bounding box\n",
    "bbox = (minb,maxb)\n",
    "bbox"
   ]
  },
  {
   "cell_type": "markdown",
   "metadata": {},
   "source": [
    "#### define Pixel size and bounding Box"
   ]
  },
  {
   "cell_type": "code",
   "execution_count": null,
   "metadata": {},
   "outputs": [],
   "source": [
    "pixsize =np.array([5,5])\n",
    "bboxR2 = ([minb[0],minb[1]],[maxb[0],maxb[1]])\n",
    "bboxR2"
   ]
  },
  {
   "cell_type": "code",
   "execution_count": null,
   "metadata": {},
   "outputs": [],
   "source": [
    "bboxN2 = bboxR2/pixsize\n",
    "bboxN2"
   ]
  },
  {
   "cell_type": "code",
   "execution_count": null,
   "metadata": {},
   "outputs": [],
   "source": [
    "bboxN2=np.rint(bboxN2).astype(int)\n",
    "bboxN2"
   ]
  },
  {
   "cell_type": "code",
   "execution_count": null,
   "metadata": {},
   "outputs": [],
   "source": [
    "diagonalN2=bboxN2[1]-bboxN2[0]\n",
    "diagonalN2 \n",
    "\n",
    "(m,n)=diagonalN2\n",
    "m,n"
   ]
  },
  {
   "cell_type": "code",
   "execution_count": null,
   "metadata": {},
   "outputs": [],
   "source": [
    "# Initialize empty lists and arrays to store pixel-related information\n",
    "pixelsR2 = []       # List to store 2D pixel coordinates in the original image\n",
    "pixelPolygons = []  # List to store shapely.geometry.box polygons for each pixel\n",
    "pixelsR3 = np.zeros((m, n, 3))  # 3D array to store the transformed pixel coordinates and average height\n",
    "heightMap = np.zeros((m, n))    # 2D array to store the average height of each pixel\n",
    "DEMVertices = []    # List to store 3D coordinates of each pixel\n",
    "\n",
    "# Loop through each pixel in the image\n",
    "for i in range(m):\n",
    "    for j in range(n):\n",
    "        \n",
    "        # Calculate 2D pixel coordinates in the original image\n",
    "        pixelN2 = [i, j]\n",
    "        pixelR2 = (pixelN2 * pixsize) + bboxR2[0]\n",
    "        \n",
    "        # Store the 2D pixel coordinates\n",
    "        pixelsR2.append(pixelR2)\n",
    "        \n",
    "        # Calculate the bounding box of the pixel in 3D space\n",
    "        halfDiagonal = 0.5 * pixsize\n",
    "        pixelBBBl = (pixelR2 - halfDiagonal).reshape(-1)\n",
    "        pixelBBTr = (pixelR2 + halfDiagonal).reshape(-1)\n",
    "        minBound = np.append(pixelBBBl, minb[2])\n",
    "        maxBound = np.append(pixelBBTr, maxb[2])\n",
    "        bounds = [minBound, maxBound]\n",
    "        \n",
    "        # Create an Open3D point cloud for the bounding box\n",
    "        tempPoints = o3d.geometry.PointCloud()\n",
    "        tempBounds = tempPoints.points = o3d.utility.Vector3dVector(bounds)\n",
    "        \n",
    "        # Create an axis-aligned bounding box for the pixel\n",
    "        smallBB = o3d.geometry.AxisAlignedBoundingBox.create_from_points(tempBounds)\n",
    "        \n",
    "        # Create a shapely polygon for the pixel\n",
    "        pixelBB = (pixelBBBl[0], pixelBBBl[1], pixelBBTr[0], pixelBBTr[1])\n",
    "        pixelPolygon = shapely.geometry.box(*pixelBB, ccw=True)\n",
    "        pixelPolygons.append(pixelPolygon)\n",
    "        \n",
    "        # Crop the geometry using the bounding box\n",
    "        pixelPC = newGeom.crop(smallBB)\n",
    "        pcArray = np.asarray(pixelPC.points)\n",
    "        \n",
    "        # Calculate the average height of the points within the pixel\n",
    "        averageHeight = 0\n",
    "        if pcArray.shape[0] > 0:\n",
    "            averageHeight = np.average(pcArray, axis=0)[2]\n",
    "        \n",
    "        # Transform pixel coordinates and store in 3D array\n",
    "        j = n - 1 - j\n",
    "        pixelR3 = np.array([*pixelR2, averageHeight])\n",
    "        pixelsR3[i, j] = pixelR3\n",
    "        \n",
    "        # Store the average height in the height map\n",
    "        heightMap[i, j] = averageHeight\n",
    "        \n",
    "        # Store the 3D coordinates in the list\n",
    "        DEMVertices.append(pixelR3)"
   ]
  },
  {
   "cell_type": "markdown",
   "metadata": {},
   "source": [
    "### Transpose the matrix and display using Matplotlib"
   ]
  },
  {
   "cell_type": "code",
   "execution_count": null,
   "metadata": {},
   "outputs": [],
   "source": [
    "heightMap=heightMap.transpose()\n",
    "plt.matshow(heightMap)\n",
    "heightMap"
   ]
  },
  {
   "cell_type": "code",
   "execution_count": null,
   "metadata": {},
   "outputs": [],
   "source": [
    "# Convert the list of pixel coordinates (pixelsR2) to a NumPy array\n",
    "points = np.array(pixelsR2)\n",
    "\n",
    "# Display the shape of the array (number of rows and columns)\n",
    "points.shape\n",
    "\n",
    "# Reshape the array to have the number of rows equal to the original shape's first dimension\n",
    "points = points.reshape(points.shape[0], points.shape[1])\n",
    "\n",
    "# Display the reshaped array\n",
    "points"
   ]
  },
  {
   "cell_type": "code",
   "execution_count": null,
   "metadata": {},
   "outputs": [],
   "source": [
    "# Append a column of zeros to the 2D pixel coordinates array, creating a 3D array\n",
    "points3D = np.c_[points, np.zeros(points.shape[0])]\n",
    "\n",
    "# Display the resulting 3D array\n",
    "points3D"
   ]
  },
  {
   "cell_type": "code",
   "execution_count": null,
   "metadata": {},
   "outputs": [],
   "source": [
    "#vizulise points of the new array.\n",
    "\n",
    "geom = o3d.geometry.PointCloud()\n",
    "geom.points = o3d.utility.Vector3dVector(points3D)\n",
    "o3d.visualization.draw_geometries([geom])"
   ]
  },
  {
   "cell_type": "code",
   "execution_count": null,
   "metadata": {},
   "outputs": [],
   "source": [
    "# Define a function to calculate the geotransform for raster data\n",
    "def getGeoTransform(extent, nlines, ncols):\n",
    "    # Calculate the pixel size in the x and y directions\n",
    "    resx = (extent[2] - extent[0]) / ncols\n",
    "    resy = (extent[3] - extent[1]) / nlines\n",
    "    \n",
    "    # Return the geotransform parameters as a list\n",
    "    return [extent[0], resx, 0, extent[3], 0, -resy]\n",
    "\n",
    "# Define the data extent (min. lon, min. lat, max. lon, max. lat) using bboxR2\n",
    "extent = [*bboxR2[0], *bboxR2[1]]\n",
    "extent\n"
   ]
  },
  {
   "cell_type": "code",
   "execution_count": null,
   "metadata": {},
   "outputs": [],
   "source": [
    "# Export the test array to GeoTIFF ================================================\n",
    " \n",
    "# Get GDAL driver GeoTiff\n",
    "driver = gdal.GetDriverByName('GTiff')\n",
    " \n",
    "# Get dimensions\n",
    "nlines = heightMap.shape[0]\n",
    "ncols = heightMap.shape[1]\n",
    "nbands = 1\n",
    "data_type = gdal.GDT_Float32"
   ]
  },
  {
   "cell_type": "code",
   "execution_count": null,
   "metadata": {},
   "outputs": [],
   "source": [
    "# Create a temp grid\n",
    "#options = ['COMPRESS=JPEG', 'JPEG_QUALITY=80', 'TILED=YES']\n",
    "grid_data = driver.Create('height_map', ncols, nlines, 1, data_type)#, options)\n",
    " \n",
    "# Write data for each bands\n",
    "grid_data.GetRasterBand(1).WriteArray(heightMap)\n",
    "\n",
    "# Lat/Lon WSG84 Spatial Reference System\n",
    "srs = osr.SpatialReference()\n",
    "srs.SetFromUserInput(\"EPSG:28992\") #RD_New EPSG code"
   ]
  },
  {
   "cell_type": "code",
   "execution_count": null,
   "metadata": {},
   "outputs": [],
   "source": [
    "# Setup projection and geo-transform\n",
    "grid_data.SetProjection(srs.ExportToWkt())\n",
    "grid_data.SetGeoTransform(getGeoTransform(extent, nlines, ncols))\n",
    " \n",
    "# Save the file\n",
    "file_name = '../Results/height_map.tif'\n",
    "print(f'Generated GeoTIFF: {file_name}')\n",
    "driver.CreateCopy(file_name, grid_data, 0)  \n",
    "\n",
    "# Close the file\n",
    "driver = None\n",
    "grid_data = None\n",
    " \n",
    "# Delete the temp grid\n",
    "import os                \n",
    "os.remove('height_map')\n"
   ]
  },
  {
   "cell_type": "code",
   "execution_count": null,
   "metadata": {},
   "outputs": [],
   "source": [
    "# Initialize lists to store vertex indices and face lists\n",
    "vertexIndices = []\n",
    "faceList = []\n",
    "\n",
    "# Loop through each vertex in the mesh grid\n",
    "for i in range(m - 1):\n",
    "    for j in range(n - 1):\n",
    "        # Calculate vertex indices for the current quad\n",
    "        v0 = i * n + j\n",
    "        v1 = v0 + 1\n",
    "        v2 = v0 + n\n",
    "        v3 = v1 + n\n",
    "        \n",
    "        # Define triangles for the current quad\n",
    "        tbl = [v0, v2, v1]\n",
    "        ttr = [v1, v2, v3]\n",
    "        \n",
    "        # Append triangles to the face list\n",
    "        faceList.append(tbl)\n",
    "        faceList.append(ttr)\n",
    "\n",
    "# Convert the face list to a NumPy array\n",
    "faceArray = np.array(faceList)\n",
    "faceArray"
   ]
  },
  {
   "cell_type": "code",
   "execution_count": null,
   "metadata": {},
   "outputs": [],
   "source": [
    "# Now visualize the mesh using Trimesh\n",
    "\n",
    "mesh=tm.Trimesh(vertices=DEMVertices,faces=faceArray)\n",
    "mesh.show()"
   ]
  },
  {
   "cell_type": "markdown",
   "metadata": {},
   "source": [
    "### Save the mesh as a pickle file to use in the next steps"
   ]
  },
  {
   "cell_type": "code",
   "execution_count": null,
   "metadata": {},
   "outputs": [],
   "source": [
    "with open('mesh.pkl', 'wb') as file:\n",
    "    pickle.dump(mesh, file)"
   ]
  },
  {
   "cell_type": "code",
   "execution_count": null,
   "metadata": {},
   "outputs": [],
   "source": [
    "# tempMesh = mesh.copy()\n",
    "f=mesh.export(file_obj='../Results/mesh.obj',file_type='obj')\n",
    "f"
   ]
  }
 ],
 "metadata": {
  "kernelspec": {
   "display_name": "Python 3",
   "language": "python",
   "name": "python3"
  },
  "language_info": {
   "codemirror_mode": {
    "name": "ipython",
    "version": 3
   },
   "file_extension": ".py",
   "mimetype": "text/x-python",
   "name": "python",
   "nbconvert_exporter": "python",
   "pygments_lexer": "ipython3",
   "version": "3.10.13"
  }
 },
 "nbformat": 4,
 "nbformat_minor": 2
}
