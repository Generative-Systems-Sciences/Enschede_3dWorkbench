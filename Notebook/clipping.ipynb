{
 "cells": [
  {
   "cell_type": "markdown",
   "metadata": {},
   "source": [
    "### Install pyfor\n",
    "\n",
    "1. Create a conda environment for this project. You should have installed conda or miniconda already for this to run.\n",
    "```\n",
    "conda env create -f ./3dworkbench.yml\n",
    "```\n",
    "2. Install pyfor library and dependancies. This will take a while due to dependancies heavy files.\n",
    "\n",
    "3. If necessary, convert the LAZ file to LAS (You can do this using the LASTools Plugin on QGIS)"
   ]
  },
  {
   "cell_type": "markdown",
   "metadata": {},
   "source": [
    "## Import Libraries"
   ]
  },
  {
   "cell_type": "code",
   "execution_count": 4,
   "metadata": {},
   "outputs": [
    {
     "name": "stdout",
     "output_type": "stream",
     "text": [
      "Collecting package metadata (current_repodata.json): ...working... failed\n"
     ]
    },
    {
     "name": "stderr",
     "output_type": "stream",
     "text": [
      "\n",
      "CondaSSLError: OpenSSL appears to be unavailable on this machine. OpenSSL is required to\n",
      "download and install packages.\n",
      "\n",
      "Exception: HTTPSConnectionPool(host='conda.anaconda.org', port=443): Max retries exceeded with url: /conda-forge/win-64/current_repodata.json (Caused by SSLError(\"Can't connect to HTTPS URL because the SSL module is not available.\"))\n",
      "\n",
      "\n"
     ]
    },
    {
     "name": "stdout",
     "output_type": "stream",
     "text": [
      "Requirement already satisfied: open3d in c:\\users\\loque\\.conda\\envs\\workshop\\lib\\site-packages (0.17.0)\n",
      "Requirement already satisfied: numpy>=1.18.0 in c:\\users\\loque\\.conda\\envs\\workshop\\lib\\site-packages (from open3d) (1.26.0)\n",
      "Requirement already satisfied: dash>=2.6.0 in c:\\users\\loque\\.conda\\envs\\workshop\\lib\\site-packages (from open3d) (2.14.1)\n",
      "Requirement already satisfied: werkzeug>=2.2.3 in c:\\users\\loque\\.conda\\envs\\workshop\\lib\\site-packages (from open3d) (3.0.1)\n",
      "Requirement already satisfied: nbformat==5.7.0 in c:\\users\\loque\\.conda\\envs\\workshop\\lib\\site-packages (from open3d) (5.7.0)\n",
      "Requirement already satisfied: configargparse in c:\\users\\loque\\.conda\\envs\\workshop\\lib\\site-packages (from open3d) (1.7)\n",
      "Requirement already satisfied: ipywidgets>=8.0.4 in c:\\users\\loque\\.conda\\envs\\workshop\\lib\\site-packages (from open3d) (8.1.1)\n",
      "Requirement already satisfied: fastjsonschema in c:\\users\\loque\\.conda\\envs\\workshop\\lib\\site-packages (from nbformat==5.7.0->open3d) (2.18.1)\n",
      "Requirement already satisfied: jsonschema>=2.6 in c:\\users\\loque\\.conda\\envs\\workshop\\lib\\site-packages (from nbformat==5.7.0->open3d) (4.19.2)\n",
      "Requirement already satisfied: jupyter-core in c:\\users\\loque\\.conda\\envs\\workshop\\lib\\site-packages (from nbformat==5.7.0->open3d) (5.5.0)\n",
      "Requirement already satisfied: traitlets>=5.1 in c:\\users\\loque\\.conda\\envs\\workshop\\lib\\site-packages (from nbformat==5.7.0->open3d) (5.13.0)\n",
      "Requirement already satisfied: Flask<3.1,>=1.0.4 in c:\\users\\loque\\.conda\\envs\\workshop\\lib\\site-packages (from dash>=2.6.0->open3d) (3.0.0)\n",
      "Requirement already satisfied: plotly>=5.0.0 in c:\\users\\loque\\.conda\\envs\\workshop\\lib\\site-packages (from dash>=2.6.0->open3d) (5.18.0)\n",
      "Requirement already satisfied: dash-html-components==2.0.0 in c:\\users\\loque\\.conda\\envs\\workshop\\lib\\site-packages (from dash>=2.6.0->open3d) (2.0.0)\n",
      "Requirement already satisfied: dash-core-components==2.0.0 in c:\\users\\loque\\.conda\\envs\\workshop\\lib\\site-packages (from dash>=2.6.0->open3d) (2.0.0)\n",
      "Requirement already satisfied: dash-table==5.0.0 in c:\\users\\loque\\.conda\\envs\\workshop\\lib\\site-packages (from dash>=2.6.0->open3d) (5.0.0)\n",
      "Requirement already satisfied: typing-extensions>=4.1.1 in c:\\users\\loque\\.conda\\envs\\workshop\\lib\\site-packages (from dash>=2.6.0->open3d) (4.8.0)\n",
      "Requirement already satisfied: requests in c:\\users\\loque\\.conda\\envs\\workshop\\lib\\site-packages (from dash>=2.6.0->open3d) (2.31.0)\n",
      "Requirement already satisfied: retrying in c:\\users\\loque\\.conda\\envs\\workshop\\lib\\site-packages (from dash>=2.6.0->open3d) (1.3.4)\n",
      "Requirement already satisfied: ansi2html in c:\\users\\loque\\.conda\\envs\\workshop\\lib\\site-packages (from dash>=2.6.0->open3d) (1.8.0)\n",
      "Requirement already satisfied: nest-asyncio in c:\\users\\loque\\.conda\\envs\\workshop\\lib\\site-packages (from dash>=2.6.0->open3d) (1.5.8)\n",
      "Requirement already satisfied: setuptools in c:\\users\\loque\\.conda\\envs\\workshop\\lib\\site-packages (from dash>=2.6.0->open3d) (68.2.2)\n",
      "Requirement already satisfied: importlib-metadata in c:\\users\\loque\\.conda\\envs\\workshop\\lib\\site-packages (from dash>=2.6.0->open3d) (6.8.0)\n",
      "Requirement already satisfied: comm>=0.1.3 in c:\\users\\loque\\.conda\\envs\\workshop\\lib\\site-packages (from ipywidgets>=8.0.4->open3d) (0.1.4)\n",
      "Requirement already satisfied: ipython>=6.1.0 in c:\\users\\loque\\.conda\\envs\\workshop\\lib\\site-packages (from ipywidgets>=8.0.4->open3d) (8.17.2)\n",
      "Requirement already satisfied: widgetsnbextension~=4.0.9 in c:\\users\\loque\\.conda\\envs\\workshop\\lib\\site-packages (from ipywidgets>=8.0.4->open3d) (4.0.9)\n",
      "Requirement already satisfied: jupyterlab-widgets~=3.0.9 in c:\\users\\loque\\.conda\\envs\\workshop\\lib\\site-packages (from ipywidgets>=8.0.4->open3d) (3.0.9)\n",
      "Requirement already satisfied: MarkupSafe>=2.1.1 in c:\\users\\loque\\.conda\\envs\\workshop\\lib\\site-packages (from werkzeug>=2.2.3->open3d) (2.1.3)\n",
      "Requirement already satisfied: Jinja2>=3.1.2 in c:\\users\\loque\\.conda\\envs\\workshop\\lib\\site-packages (from Flask<3.1,>=1.0.4->dash>=2.6.0->open3d) (3.1.2)\n",
      "Requirement already satisfied: itsdangerous>=2.1.2 in c:\\users\\loque\\.conda\\envs\\workshop\\lib\\site-packages (from Flask<3.1,>=1.0.4->dash>=2.6.0->open3d) (2.1.2)\n",
      "Requirement already satisfied: click>=8.1.3 in c:\\users\\loque\\.conda\\envs\\workshop\\lib\\site-packages (from Flask<3.1,>=1.0.4->dash>=2.6.0->open3d) (8.1.7)\n",
      "Requirement already satisfied: blinker>=1.6.2 in c:\\users\\loque\\.conda\\envs\\workshop\\lib\\site-packages (from Flask<3.1,>=1.0.4->dash>=2.6.0->open3d) (1.7.0)\n",
      "Requirement already satisfied: decorator in c:\\users\\loque\\.conda\\envs\\workshop\\lib\\site-packages (from ipython>=6.1.0->ipywidgets>=8.0.4->open3d) (5.1.1)\n",
      "Requirement already satisfied: jedi>=0.16 in c:\\users\\loque\\.conda\\envs\\workshop\\lib\\site-packages (from ipython>=6.1.0->ipywidgets>=8.0.4->open3d) (0.19.1)\n",
      "Requirement already satisfied: matplotlib-inline in c:\\users\\loque\\.conda\\envs\\workshop\\lib\\site-packages (from ipython>=6.1.0->ipywidgets>=8.0.4->open3d) (0.1.6)\n",
      "Requirement already satisfied: prompt-toolkit!=3.0.37,<3.1.0,>=3.0.30 in c:\\users\\loque\\.conda\\envs\\workshop\\lib\\site-packages (from ipython>=6.1.0->ipywidgets>=8.0.4->open3d) (3.0.40)\n",
      "Requirement already satisfied: pygments>=2.4.0 in c:\\users\\loque\\.conda\\envs\\workshop\\lib\\site-packages (from ipython>=6.1.0->ipywidgets>=8.0.4->open3d) (2.16.1)\n",
      "Requirement already satisfied: stack-data in c:\\users\\loque\\.conda\\envs\\workshop\\lib\\site-packages (from ipython>=6.1.0->ipywidgets>=8.0.4->open3d) (0.6.2)\n",
      "Requirement already satisfied: exceptiongroup in c:\\users\\loque\\.conda\\envs\\workshop\\lib\\site-packages (from ipython>=6.1.0->ipywidgets>=8.0.4->open3d) (1.1.3)\n",
      "Requirement already satisfied: colorama in c:\\users\\loque\\.conda\\envs\\workshop\\lib\\site-packages (from ipython>=6.1.0->ipywidgets>=8.0.4->open3d) (0.4.6)\n",
      "Requirement already satisfied: attrs>=22.2.0 in c:\\users\\loque\\.conda\\envs\\workshop\\lib\\site-packages (from jsonschema>=2.6->nbformat==5.7.0->open3d) (23.1.0)\n",
      "Requirement already satisfied: jsonschema-specifications>=2023.03.6 in c:\\users\\loque\\.conda\\envs\\workshop\\lib\\site-packages (from jsonschema>=2.6->nbformat==5.7.0->open3d) (2023.7.1)\n",
      "Requirement already satisfied: referencing>=0.28.4 in c:\\users\\loque\\.conda\\envs\\workshop\\lib\\site-packages (from jsonschema>=2.6->nbformat==5.7.0->open3d) (0.30.2)\n",
      "Requirement already satisfied: rpds-py>=0.7.1 in c:\\users\\loque\\.conda\\envs\\workshop\\lib\\site-packages (from jsonschema>=2.6->nbformat==5.7.0->open3d) (0.12.0)\n",
      "Requirement already satisfied: tenacity>=6.2.0 in c:\\users\\loque\\.conda\\envs\\workshop\\lib\\site-packages (from plotly>=5.0.0->dash>=2.6.0->open3d) (8.2.3)\n",
      "Requirement already satisfied: packaging in c:\\users\\loque\\.conda\\envs\\workshop\\lib\\site-packages (from plotly>=5.0.0->dash>=2.6.0->open3d) (23.2)\n",
      "Requirement already satisfied: zipp>=0.5 in c:\\users\\loque\\.conda\\envs\\workshop\\lib\\site-packages (from importlib-metadata->dash>=2.6.0->open3d) (3.17.0)\n",
      "Requirement already satisfied: platformdirs>=2.5 in c:\\users\\loque\\.conda\\envs\\workshop\\lib\\site-packages (from jupyter-core->nbformat==5.7.0->open3d) (4.0.0)\n",
      "Requirement already satisfied: pywin32>=300 in c:\\users\\loque\\.conda\\envs\\workshop\\lib\\site-packages (from jupyter-core->nbformat==5.7.0->open3d) (306)\n",
      "Requirement already satisfied: charset-normalizer<4,>=2 in c:\\users\\loque\\.conda\\envs\\workshop\\lib\\site-packages (from requests->dash>=2.6.0->open3d) (3.3.2)\n",
      "Requirement already satisfied: idna<4,>=2.5 in c:\\users\\loque\\.conda\\envs\\workshop\\lib\\site-packages (from requests->dash>=2.6.0->open3d) (3.4)\n",
      "Requirement already satisfied: urllib3<3,>=1.21.1 in c:\\users\\loque\\appdata\\roaming\\python\\python310\\site-packages (from requests->dash>=2.6.0->open3d) (1.25.11)\n",
      "Requirement already satisfied: certifi>=2017.4.17 in c:\\users\\loque\\.conda\\envs\\workshop\\lib\\site-packages (from requests->dash>=2.6.0->open3d) (2023.7.22)\n",
      "Requirement already satisfied: six>=1.7.0 in c:\\users\\loque\\.conda\\envs\\workshop\\lib\\site-packages (from retrying->dash>=2.6.0->open3d) (1.16.0)\n",
      "Requirement already satisfied: parso<0.9.0,>=0.8.3 in c:\\users\\loque\\.conda\\envs\\workshop\\lib\\site-packages (from jedi>=0.16->ipython>=6.1.0->ipywidgets>=8.0.4->open3d) (0.8.3)\n",
      "Requirement already satisfied: wcwidth in c:\\users\\loque\\.conda\\envs\\workshop\\lib\\site-packages (from prompt-toolkit!=3.0.37,<3.1.0,>=3.0.30->ipython>=6.1.0->ipywidgets>=8.0.4->open3d) (0.2.9)\n",
      "Requirement already satisfied: executing>=1.2.0 in c:\\users\\loque\\.conda\\envs\\workshop\\lib\\site-packages (from stack-data->ipython>=6.1.0->ipywidgets>=8.0.4->open3d) (2.0.1)\n",
      "Requirement already satisfied: asttokens>=2.1.0 in c:\\users\\loque\\.conda\\envs\\workshop\\lib\\site-packages (from stack-data->ipython>=6.1.0->ipywidgets>=8.0.4->open3d) (2.4.1)\n",
      "Requirement already satisfied: pure-eval in c:\\users\\loque\\.conda\\envs\\workshop\\lib\\site-packages (from stack-data->ipython>=6.1.0->ipywidgets>=8.0.4->open3d) (0.2.2)\n"
     ]
    },
    {
     "name": "stderr",
     "output_type": "stream",
     "text": [
      "DEPRECATION: arcgis 2.0.0 has a non-standard dependency specifier keyring<=21.8.*,>=19. pip 24.0 will enforce this behaviour change. A possible replacement is to upgrade to a newer version of arcgis or contact the author to suggest that they release a version with a conforming dependency specifiers. Discussion can be found at https://github.com/pypa/pip/issues/12063\n"
     ]
    }
   ],
   "source": [
    "!conda install laspy\n",
    "!pip install open3d"
   ]
  },
  {
   "cell_type": "code",
   "execution_count": 1,
   "metadata": {},
   "outputs": [
    {
     "name": "stdout",
     "output_type": "stream",
     "text": [
      "Jupyter environment detected. Enabling Open3D WebVisualizer.\n",
      "[Open3D INFO] WebRTC GUI backend enabled.\n",
      "[Open3D INFO] WebRTCWindowSystem: HTTP handshake server disabled.\n"
     ]
    }
   ],
   "source": [
    "import laspy\n",
    "import open3d as o3d\n",
    "import numpy as np"
   ]
  },
  {
   "cell_type": "markdown",
   "metadata": {},
   "source": [
    "### Import Files"
   ]
  },
  {
   "cell_type": "code",
   "execution_count": 10,
   "metadata": {},
   "outputs": [],
   "source": [
    "las = laspy.read('./data/OldCityEnschede.las')"
   ]
  },
  {
   "cell_type": "markdown",
   "metadata": {},
   "source": [
    "### Transform data into a Open3D point cloud and visualize"
   ]
  },
  {
   "cell_type": "code",
   "execution_count": 11,
   "metadata": {},
   "outputs": [],
   "source": [
    "point_data = np.stack([las.X, las.Y, las.Z], axis=0).transpose((1,0))"
   ]
  },
  {
   "cell_type": "code",
   "execution_count": 12,
   "metadata": {},
   "outputs": [],
   "source": [
    "geom = o3d.geometry.PointCloud()\n",
    "geom.points = o3d.utility.Vector3dVector(point_data)\n"
   ]
  },
  {
   "cell_type": "code",
   "execution_count": 13,
   "metadata": {},
   "outputs": [],
   "source": [
    "o3d.visualization.draw_geometries([geom])"
   ]
  }
 ],
 "metadata": {
  "kernelspec": {
   "display_name": "Python 3",
   "language": "python",
   "name": "python3"
  },
  "language_info": {
   "codemirror_mode": {
    "name": "ipython",
    "version": 3
   },
   "file_extension": ".py",
   "mimetype": "text/x-python",
   "name": "python",
   "nbconvert_exporter": "python",
   "pygments_lexer": "ipython3",
   "version": "3.10.13"
  }
 },
 "nbformat": 4,
 "nbformat_minor": 2
}
